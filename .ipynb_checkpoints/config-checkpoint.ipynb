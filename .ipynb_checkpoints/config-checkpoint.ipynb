{
 "cells": [
  {
   "cell_type": "code",
   "execution_count": 1,
   "metadata": {
    "collapsed": true
   },
   "outputs": [],
   "source": [
    "consumer_key = \"zlcMw2BA0kx7TYtylsQBDJ1nZ\"\n",
    "consumer_secret = \"QBbBasZOVyAMD2uKEeEFajg5Ba4er0lSP77daab1hIEKijPeKL\"\n",
    "access_token = \"930162277730406400-O2vqU07snMEa5M1YRxjHT3n96FA6JqP\"\n",
    "access_token_secret = \"Yw2y9gRnAOvLNMo1XQ76udJyRFfchCM8Ob6RIQty8GlpI\"\n"
   ]
  },
  {
   "cell_type": "code",
   "execution_count": null,
   "metadata": {
    "collapsed": true
   },
   "outputs": [],
   "source": []
  }
 ],
 "metadata": {
  "kernelspec": {
   "display_name": "Python 3",
   "language": "python",
   "name": "python3"
  },
  "language_info": {
   "codemirror_mode": {
    "name": "ipython",
    "version": 3
   },
   "file_extension": ".py",
   "mimetype": "text/x-python",
   "name": "python",
   "nbconvert_exporter": "python",
   "pygments_lexer": "ipython3",
   "version": "3.6.1"
  }
 },
 "nbformat": 4,
 "nbformat_minor": 2
}
