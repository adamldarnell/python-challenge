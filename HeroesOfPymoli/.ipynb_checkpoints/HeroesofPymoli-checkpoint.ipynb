{
 "cells": [
  {
   "cell_type": "code",
   "execution_count": 171,
   "metadata": {
    "collapsed": true
   },
   "outputs": [],
   "source": [
    "import pandas as pd"
   ]
  },
  {
   "cell_type": "code",
   "execution_count": 172,
   "metadata": {
    "collapsed": true
   },
   "outputs": [],
   "source": [
    "pymoli1 = \"purchase_data.json\"\n",
    "pymoli2 = \"purchase_data2.json\""
   ]
  },
  {
   "cell_type": "code",
   "execution_count": 173,
   "metadata": {},
   "outputs": [],
   "source": [
    "pymoli1_pd = pd.read_json(pymoli1)\n",
    "pymoli2_pd = pd.read_json(pymoli2)\n"
   ]
  },
  {
   "cell_type": "code",
   "execution_count": 174,
   "metadata": {},
   "outputs": [
    {
     "data": {
      "text/html": [
       "<div>\n",
       "<style>\n",
       "    .dataframe thead tr:only-child th {\n",
       "        text-align: right;\n",
       "    }\n",
       "\n",
       "    .dataframe thead th {\n",
       "        text-align: left;\n",
       "    }\n",
       "\n",
       "    .dataframe tbody tr th {\n",
       "        vertical-align: top;\n",
       "    }\n",
       "</style>\n",
       "<table border=\"1\" class=\"dataframe\">\n",
       "  <thead>\n",
       "    <tr style=\"text-align: right;\">\n",
       "      <th></th>\n",
       "      <th>Age</th>\n",
       "      <th>Gender</th>\n",
       "      <th>Item ID</th>\n",
       "      <th>Item Name</th>\n",
       "      <th>Price</th>\n",
       "      <th>SN</th>\n",
       "    </tr>\n",
       "  </thead>\n",
       "  <tbody>\n",
       "    <tr>\n",
       "      <th>0</th>\n",
       "      <td>38</td>\n",
       "      <td>Male</td>\n",
       "      <td>165</td>\n",
       "      <td>Bone Crushing Silver Skewer</td>\n",
       "      <td>3.37</td>\n",
       "      <td>Aelalis34</td>\n",
       "    </tr>\n",
       "    <tr>\n",
       "      <th>1</th>\n",
       "      <td>21</td>\n",
       "      <td>Male</td>\n",
       "      <td>119</td>\n",
       "      <td>Stormbringer, Dark Blade of Ending Misery</td>\n",
       "      <td>2.32</td>\n",
       "      <td>Eolo46</td>\n",
       "    </tr>\n",
       "    <tr>\n",
       "      <th>2</th>\n",
       "      <td>34</td>\n",
       "      <td>Male</td>\n",
       "      <td>174</td>\n",
       "      <td>Primitive Blade</td>\n",
       "      <td>2.46</td>\n",
       "      <td>Assastnya25</td>\n",
       "    </tr>\n",
       "    <tr>\n",
       "      <th>3</th>\n",
       "      <td>21</td>\n",
       "      <td>Male</td>\n",
       "      <td>92</td>\n",
       "      <td>Final Critic</td>\n",
       "      <td>1.36</td>\n",
       "      <td>Pheusrical25</td>\n",
       "    </tr>\n",
       "    <tr>\n",
       "      <th>4</th>\n",
       "      <td>23</td>\n",
       "      <td>Male</td>\n",
       "      <td>63</td>\n",
       "      <td>Stormfury Mace</td>\n",
       "      <td>1.27</td>\n",
       "      <td>Aela59</td>\n",
       "    </tr>\n",
       "  </tbody>\n",
       "</table>\n",
       "</div>"
      ],
      "text/plain": [
       "   Age Gender  Item ID                                  Item Name  Price  \\\n",
       "0   38   Male      165                Bone Crushing Silver Skewer   3.37   \n",
       "1   21   Male      119  Stormbringer, Dark Blade of Ending Misery   2.32   \n",
       "2   34   Male      174                            Primitive Blade   2.46   \n",
       "3   21   Male       92                               Final Critic   1.36   \n",
       "4   23   Male       63                             Stormfury Mace   1.27   \n",
       "\n",
       "             SN  \n",
       "0     Aelalis34  \n",
       "1        Eolo46  \n",
       "2   Assastnya25  \n",
       "3  Pheusrical25  \n",
       "4        Aela59  "
      ]
     },
     "execution_count": 174,
     "metadata": {},
     "output_type": "execute_result"
    }
   ],
   "source": [
    "pymoli1_pd.head()"
   ]
  },
  {
   "cell_type": "code",
   "execution_count": 175,
   "metadata": {},
   "outputs": [
    {
     "data": {
      "text/html": [
       "<div>\n",
       "<style>\n",
       "    .dataframe thead tr:only-child th {\n",
       "        text-align: right;\n",
       "    }\n",
       "\n",
       "    .dataframe thead th {\n",
       "        text-align: left;\n",
       "    }\n",
       "\n",
       "    .dataframe tbody tr th {\n",
       "        vertical-align: top;\n",
       "    }\n",
       "</style>\n",
       "<table border=\"1\" class=\"dataframe\">\n",
       "  <thead>\n",
       "    <tr style=\"text-align: right;\">\n",
       "      <th></th>\n",
       "      <th>Age</th>\n",
       "      <th>Gender</th>\n",
       "      <th>Item ID</th>\n",
       "      <th>Item Name</th>\n",
       "      <th>Price</th>\n",
       "      <th>SN</th>\n",
       "    </tr>\n",
       "  </thead>\n",
       "  <tbody>\n",
       "    <tr>\n",
       "      <th>0</th>\n",
       "      <td>20</td>\n",
       "      <td>Male</td>\n",
       "      <td>93</td>\n",
       "      <td>Apocalyptic Battlescythe</td>\n",
       "      <td>4.49</td>\n",
       "      <td>Iloni35</td>\n",
       "    </tr>\n",
       "    <tr>\n",
       "      <th>1</th>\n",
       "      <td>21</td>\n",
       "      <td>Male</td>\n",
       "      <td>12</td>\n",
       "      <td>Dawne</td>\n",
       "      <td>3.36</td>\n",
       "      <td>Aidaira26</td>\n",
       "    </tr>\n",
       "    <tr>\n",
       "      <th>2</th>\n",
       "      <td>17</td>\n",
       "      <td>Male</td>\n",
       "      <td>5</td>\n",
       "      <td>Putrid Fan</td>\n",
       "      <td>2.63</td>\n",
       "      <td>Irim47</td>\n",
       "    </tr>\n",
       "    <tr>\n",
       "      <th>3</th>\n",
       "      <td>17</td>\n",
       "      <td>Male</td>\n",
       "      <td>123</td>\n",
       "      <td>Twilight's Carver</td>\n",
       "      <td>2.55</td>\n",
       "      <td>Irith83</td>\n",
       "    </tr>\n",
       "    <tr>\n",
       "      <th>4</th>\n",
       "      <td>22</td>\n",
       "      <td>Male</td>\n",
       "      <td>154</td>\n",
       "      <td>Feral Katana</td>\n",
       "      <td>4.11</td>\n",
       "      <td>Philodil43</td>\n",
       "    </tr>\n",
       "  </tbody>\n",
       "</table>\n",
       "</div>"
      ],
      "text/plain": [
       "   Age Gender  Item ID                 Item Name  Price          SN\n",
       "0   20   Male       93  Apocalyptic Battlescythe   4.49     Iloni35\n",
       "1   21   Male       12                     Dawne   3.36   Aidaira26\n",
       "2   17   Male        5                Putrid Fan   2.63      Irim47\n",
       "3   17   Male      123         Twilight's Carver   2.55     Irith83\n",
       "4   22   Male      154              Feral Katana   4.11  Philodil43"
      ]
     },
     "execution_count": 175,
     "metadata": {},
     "output_type": "execute_result"
    }
   ],
   "source": [
    "pymoli2_pd.head()"
   ]
  },
  {
   "cell_type": "code",
   "execution_count": 200,
   "metadata": {},
   "outputs": [
    {
     "data": {
      "text/html": [
       "<div>\n",
       "<style>\n",
       "    .dataframe thead tr:only-child th {\n",
       "        text-align: right;\n",
       "    }\n",
       "\n",
       "    .dataframe thead th {\n",
       "        text-align: left;\n",
       "    }\n",
       "\n",
       "    .dataframe tbody tr th {\n",
       "        vertical-align: top;\n",
       "    }\n",
       "</style>\n",
       "<table border=\"1\" class=\"dataframe\">\n",
       "  <thead>\n",
       "    <tr style=\"text-align: right;\">\n",
       "      <th></th>\n",
       "      <th>Total Player Count</th>\n",
       "    </tr>\n",
       "  </thead>\n",
       "  <tbody>\n",
       "    <tr>\n",
       "      <th>0</th>\n",
       "      <td>858</td>\n",
       "    </tr>\n",
       "  </tbody>\n",
       "</table>\n",
       "</div>"
      ],
      "text/plain": [
       "   Total Player Count\n",
       "0                 858"
      ]
     },
     "execution_count": 200,
     "metadata": {},
     "output_type": "execute_result"
    }
   ],
   "source": [
    "player_count = len(pymoli1_pd) + len(pymoli2_pd)\n",
    "player_countP = pd.DataFrame({\"Total Player Count\": [player_count]})\n",
    "player_countP"
   ]
  },
  {
   "cell_type": "code",
   "execution_count": 177,
   "metadata": {},
   "outputs": [],
   "source": [
    "pymoli1_rename = pymoli1_pd.rename(columns={'Item ID': 'ItemID', 'Item Name': 'ItemName'})\n",
    "pymoli2_rename = pymoli1_pd.rename(columns={'Item ID': 'ItemID', 'Item Name': 'ItemName'})"
   ]
  },
  {
   "cell_type": "code",
   "execution_count": 178,
   "metadata": {},
   "outputs": [
    {
     "data": {
      "text/plain": [
       "['Trickster',\n",
       " \"Misery's End\",\n",
       " 'Renewed Skeletal Katana',\n",
       " 'Serenity',\n",
       " 'Dawne',\n",
       " 'Spectral Bone Axe',\n",
       " 'Ghastly Adamantite Protector',\n",
       " 'Betrayer',\n",
       " 'Blazeguard, Reach of Eternity',\n",
       " 'Alpha, Oath of Zeal',\n",
       " 'Azurewrath',\n",
       " 'Celeste',\n",
       " 'Stormbringer, Dark Blade of Ending Misery',\n",
       " 'Vindictive Glass Edge',\n",
       " 'Malificent Bag',\n",
       " 'Blazefury, Protector of Delusions',\n",
       " 'Extraction, Quickblade Of Trembling Hands',\n",
       " 'Malice, Legacy of the Queen',\n",
       " 'Crying Steel Sickle',\n",
       " 'Ritual Mace',\n",
       " 'Interrogator, Blood Blade of the Queen',\n",
       " 'Emberling, Defender of Delusions',\n",
       " 'Soul Infused Crystal',\n",
       " 'Putrid Fan',\n",
       " 'Orbit',\n",
       " 'Souleater',\n",
       " 'Despair, Favor of Due Diligence',\n",
       " 'Mercenary Sabre',\n",
       " 'Expiration, Warscythe Of Lost Worlds',\n",
       " 'Flux, Destroyer of Due Diligence',\n",
       " 'Warped Diamond Crusader',\n",
       " 'Rusty Skull',\n",
       " 'Alpha, Reach of Ending Hope',\n",
       " 'Brutality Ivory Warmace',\n",
       " \"Freak's Bite, Favor of Holy Might\",\n",
       " \"Reaper's Toll\",\n",
       " 'Piety, Guardian of Riddles',\n",
       " 'Soul-Forged Steel Shortsword',\n",
       " \"Winter's Bite\",\n",
       " 'Striker',\n",
       " 'Alpha',\n",
       " 'Eternal Cleaver',\n",
       " 'Stormcaller',\n",
       " 'Victor Iron Spikes',\n",
       " 'Scalpel',\n",
       " 'Haunted Bronzed Bludgeon',\n",
       " 'War-Forged Gold Deflector',\n",
       " 'Hailstorm Shadowsteel Scythe',\n",
       " 'Heartless Bone Dualblade',\n",
       " 'Dreamkiss',\n",
       " 'Storm-Weaver, Slayer of Inception',\n",
       " 'Frenzy, Defender of the Harvest',\n",
       " 'Netherbane',\n",
       " 'Massacre',\n",
       " 'Swan Song, Gouger Of Terror',\n",
       " \"Warmonger, Gift of Suffering's End\",\n",
       " 'Second Chance',\n",
       " 'Bone Crushing Silver Skewer',\n",
       " \"Gladiator's Glaive\",\n",
       " 'Wolf',\n",
       " \"Bloodlord's Fetish\",\n",
       " 'Betrayal, Whisper of Grieving Widows',\n",
       " 'Glinting Glass Edge',\n",
       " 'Thorn, Satchel of Dark Souls',\n",
       " 'Arcane Gem',\n",
       " 'Thirsty Iron Reaver',\n",
       " 'Hopeless Ebon Dualblade',\n",
       " 'Singed Scalpel',\n",
       " 'Pursuit, Cudgel of Necromancy',\n",
       " 'Fiery Glass Crusader',\n",
       " 'Unending Tyranny',\n",
       " 'Stormfury Longsword',\n",
       " 'Amnesia',\n",
       " 'Stormfury Lantern',\n",
       " 'Hero Cane',\n",
       " 'Venom Claymore',\n",
       " 'Conqueror Adamantite Mace',\n",
       " 'Chaos, Ender of the End',\n",
       " 'Bonecarvin Battle Axe',\n",
       " 'Thunderfury Scimitar',\n",
       " \"Faith's Scimitar\",\n",
       " 'Restored Bauble',\n",
       " 'Deathraze',\n",
       " 'Celeste, Incarnation of the Corrupted',\n",
       " 'Aetherius, Boon of the Blessed',\n",
       " 'Demise',\n",
       " 'Whistling Mithril Warblade',\n",
       " 'Verdict',\n",
       " 'Foul Edge',\n",
       " 'Abyssal Shard',\n",
       " 'Yearning Mageblade',\n",
       " 'Winterthorn, Defender of Shifting Worlds',\n",
       " 'Blood-Forged Skeletal Spine',\n",
       " 'Righteous Might',\n",
       " 'Devine',\n",
       " 'Lazarus, Terror of the Earth',\n",
       " 'Darkheart, Butcher of the Champion',\n",
       " 'Nirvana',\n",
       " 'Suspension',\n",
       " 'Mercy, Katana of Dismay',\n",
       " 'Piece Maker',\n",
       " 'Foul Titanium Battle Axe',\n",
       " 'Possessed Core',\n",
       " 'Dawn',\n",
       " 'Splitter, Foe Of Subtlety',\n",
       " 'Downfall, Scalpel Of The Emperor',\n",
       " 'Hatred',\n",
       " 'Stormfury Mace',\n",
       " 'Frenzied Scimitar',\n",
       " 'Sleepwalker',\n",
       " 'Woeful Adamantite Claymore',\n",
       " 'Ghost Reaver, Longsword of Magic',\n",
       " 'Blade of the Grave',\n",
       " \"Solitude's Reaver\",\n",
       " \"Dragon's Greatsword\",\n",
       " 'Retribution Axe',\n",
       " 'Glimmer, Ender of the Moon',\n",
       " 'Relentless Iron Skewer',\n",
       " 'Crucifer',\n",
       " 'Ragnarok',\n",
       " 'Orenmir',\n",
       " 'Deluge, Edge of the West',\n",
       " 'Wolf, Promise of the Moonwalker',\n",
       " 'Oathbreaker, Spellblade of Trials',\n",
       " \"Hope's End\",\n",
       " 'Feral Katana',\n",
       " 'Sun Strike, Jaws of Twisted Visions',\n",
       " 'Endbringer',\n",
       " 'Splinter',\n",
       " 'Purgatory, Gem of Regret',\n",
       " 'Dreamsong',\n",
       " 'Yearning Crusher',\n",
       " 'Fate, Vengeance of Eternal Justice',\n",
       " 'Shadow Strike, Glory of Ending Hope',\n",
       " 'Thorn, Conqueror of the Corrupted',\n",
       " 'Tranquility, Razor of Black Magic',\n",
       " 'Darkheart',\n",
       " 'Curved Axe',\n",
       " 'Brimstone',\n",
       " 'Exiled Mithril Longsword',\n",
       " 'Undead Crusader',\n",
       " 'Torchlight, Bond of Storms',\n",
       " 'Fury',\n",
       " 'Singed Onyx Warscythe',\n",
       " 'Warped Iron Scimitar',\n",
       " 'Fusion Pummel',\n",
       " 'Heartseeker, Reaver of Souls',\n",
       " 'Phantomlight',\n",
       " 'Riddle, Tribute of Ended Dreams',\n",
       " 'Spectral Diamond Doomblade',\n",
       " 'Mourning Blade',\n",
       " 'Hellreaver, Heirloom of Inception',\n",
       " 'Lifebender',\n",
       " 'Persuasion',\n",
       " 'Apocalyptic Battlescythe',\n",
       " 'Vengeance Cleaver',\n",
       " 'Blindscythe',\n",
       " 'Exiled Doomblade',\n",
       " 'Deadline, Voice Of Subtlety',\n",
       " 'Warped Fetish',\n",
       " 'Agatha',\n",
       " 'The Oculus, Token of Lost Worlds',\n",
       " 'Worldbreaker',\n",
       " 'The Decapitator',\n",
       " 'Avenger',\n",
       " 'Spada, Etcher of Hatred',\n",
       " 'Oathbreaker, Last Hope of the Breaking Storm',\n",
       " 'Blood Infused Guardian',\n",
       " 'Final Critic',\n",
       " 'Primitive Blade',\n",
       " \"Twilight's Carver\",\n",
       " 'Shadowsteel',\n",
       " 'Rage, Legacy of the Lone Victor',\n",
       " 'Heartstriker, Legacy of the Light',\n",
       " 'Lightning, Etcher of the King',\n",
       " 'Toothpick',\n",
       " 'The Void, Vengeance of Dark Magic',\n",
       " 'Unholy Wand',\n",
       " 'Severance']"
      ]
     },
     "execution_count": 178,
     "metadata": {},
     "output_type": "execute_result"
    }
   ],
   "source": [
    "list(set(pymoli1_rename.ItemName))"
   ]
  },
  {
   "cell_type": "code",
   "execution_count": 179,
   "metadata": {},
   "outputs": [
    {
     "data": {
      "text/plain": [
       "['Trickster',\n",
       " \"Misery's End\",\n",
       " 'Renewed Skeletal Katana',\n",
       " 'Serenity',\n",
       " 'Dawne',\n",
       " 'Spectral Bone Axe',\n",
       " 'Ghastly Adamantite Protector',\n",
       " 'Betrayer',\n",
       " 'Blazeguard, Reach of Eternity',\n",
       " 'Alpha, Oath of Zeal',\n",
       " 'Azurewrath',\n",
       " 'Celeste',\n",
       " 'Stormbringer, Dark Blade of Ending Misery',\n",
       " 'Vindictive Glass Edge',\n",
       " 'Malificent Bag',\n",
       " 'Blazefury, Protector of Delusions',\n",
       " 'Extraction, Quickblade Of Trembling Hands',\n",
       " 'Malice, Legacy of the Queen',\n",
       " 'Crying Steel Sickle',\n",
       " 'Ritual Mace',\n",
       " 'Interrogator, Blood Blade of the Queen',\n",
       " 'Emberling, Defender of Delusions',\n",
       " 'Soul Infused Crystal',\n",
       " 'Putrid Fan',\n",
       " 'Orbit',\n",
       " 'Souleater',\n",
       " 'Despair, Favor of Due Diligence',\n",
       " 'Mercenary Sabre',\n",
       " 'Expiration, Warscythe Of Lost Worlds',\n",
       " 'Flux, Destroyer of Due Diligence',\n",
       " 'Warped Diamond Crusader',\n",
       " 'Rusty Skull',\n",
       " 'Alpha, Reach of Ending Hope',\n",
       " 'Brutality Ivory Warmace',\n",
       " \"Freak's Bite, Favor of Holy Might\",\n",
       " \"Reaper's Toll\",\n",
       " 'Piety, Guardian of Riddles',\n",
       " 'Soul-Forged Steel Shortsword',\n",
       " \"Winter's Bite\",\n",
       " 'Striker',\n",
       " 'Alpha',\n",
       " 'Eternal Cleaver',\n",
       " 'Stormcaller',\n",
       " 'Victor Iron Spikes',\n",
       " 'Scalpel',\n",
       " 'Haunted Bronzed Bludgeon',\n",
       " 'War-Forged Gold Deflector',\n",
       " 'Hailstorm Shadowsteel Scythe',\n",
       " 'Heartless Bone Dualblade',\n",
       " 'Dreamkiss',\n",
       " 'Storm-Weaver, Slayer of Inception',\n",
       " 'Frenzy, Defender of the Harvest',\n",
       " 'Netherbane',\n",
       " 'Massacre',\n",
       " 'Swan Song, Gouger Of Terror',\n",
       " \"Warmonger, Gift of Suffering's End\",\n",
       " 'Second Chance',\n",
       " 'Bone Crushing Silver Skewer',\n",
       " \"Gladiator's Glaive\",\n",
       " 'Wolf',\n",
       " \"Bloodlord's Fetish\",\n",
       " 'Betrayal, Whisper of Grieving Widows',\n",
       " 'Glinting Glass Edge',\n",
       " 'Thorn, Satchel of Dark Souls',\n",
       " 'Arcane Gem',\n",
       " 'Thirsty Iron Reaver',\n",
       " 'Hopeless Ebon Dualblade',\n",
       " 'Singed Scalpel',\n",
       " 'Pursuit, Cudgel of Necromancy',\n",
       " 'Fiery Glass Crusader',\n",
       " 'Unending Tyranny',\n",
       " 'Stormfury Longsword',\n",
       " 'Amnesia',\n",
       " 'Stormfury Lantern',\n",
       " 'Hero Cane',\n",
       " 'Venom Claymore',\n",
       " 'Conqueror Adamantite Mace',\n",
       " 'Chaos, Ender of the End',\n",
       " 'Bonecarvin Battle Axe',\n",
       " 'Thunderfury Scimitar',\n",
       " \"Faith's Scimitar\",\n",
       " 'Restored Bauble',\n",
       " 'Deathraze',\n",
       " 'Celeste, Incarnation of the Corrupted',\n",
       " 'Aetherius, Boon of the Blessed',\n",
       " 'Demise',\n",
       " 'Whistling Mithril Warblade',\n",
       " 'Verdict',\n",
       " 'Foul Edge',\n",
       " 'Abyssal Shard',\n",
       " 'Yearning Mageblade',\n",
       " 'Winterthorn, Defender of Shifting Worlds',\n",
       " 'Blood-Forged Skeletal Spine',\n",
       " 'Righteous Might',\n",
       " 'Devine',\n",
       " 'Lazarus, Terror of the Earth',\n",
       " 'Darkheart, Butcher of the Champion',\n",
       " 'Nirvana',\n",
       " 'Suspension',\n",
       " 'Mercy, Katana of Dismay',\n",
       " 'Piece Maker',\n",
       " 'Foul Titanium Battle Axe',\n",
       " 'Possessed Core',\n",
       " 'Dawn',\n",
       " 'Splitter, Foe Of Subtlety',\n",
       " 'Downfall, Scalpel Of The Emperor',\n",
       " 'Hatred',\n",
       " 'Stormfury Mace',\n",
       " 'Frenzied Scimitar',\n",
       " 'Sleepwalker',\n",
       " 'Woeful Adamantite Claymore',\n",
       " 'Ghost Reaver, Longsword of Magic',\n",
       " 'Blade of the Grave',\n",
       " \"Solitude's Reaver\",\n",
       " \"Dragon's Greatsword\",\n",
       " 'Retribution Axe',\n",
       " 'Glimmer, Ender of the Moon',\n",
       " 'Relentless Iron Skewer',\n",
       " 'Crucifer',\n",
       " 'Ragnarok',\n",
       " 'Orenmir',\n",
       " 'Deluge, Edge of the West',\n",
       " 'Wolf, Promise of the Moonwalker',\n",
       " 'Oathbreaker, Spellblade of Trials',\n",
       " \"Hope's End\",\n",
       " 'Feral Katana',\n",
       " 'Sun Strike, Jaws of Twisted Visions',\n",
       " 'Endbringer',\n",
       " 'Splinter',\n",
       " 'Purgatory, Gem of Regret',\n",
       " 'Dreamsong',\n",
       " 'Yearning Crusher',\n",
       " 'Fate, Vengeance of Eternal Justice',\n",
       " 'Shadow Strike, Glory of Ending Hope',\n",
       " 'Thorn, Conqueror of the Corrupted',\n",
       " 'Tranquility, Razor of Black Magic',\n",
       " 'Darkheart',\n",
       " 'Curved Axe',\n",
       " 'Brimstone',\n",
       " 'Exiled Mithril Longsword',\n",
       " 'Undead Crusader',\n",
       " 'Torchlight, Bond of Storms',\n",
       " 'Fury',\n",
       " 'Singed Onyx Warscythe',\n",
       " 'Warped Iron Scimitar',\n",
       " 'Fusion Pummel',\n",
       " 'Heartseeker, Reaver of Souls',\n",
       " 'Phantomlight',\n",
       " 'Riddle, Tribute of Ended Dreams',\n",
       " 'Spectral Diamond Doomblade',\n",
       " 'Mourning Blade',\n",
       " 'Hellreaver, Heirloom of Inception',\n",
       " 'Lifebender',\n",
       " 'Persuasion',\n",
       " 'Apocalyptic Battlescythe',\n",
       " 'Vengeance Cleaver',\n",
       " 'Blindscythe',\n",
       " 'Exiled Doomblade',\n",
       " 'Deadline, Voice Of Subtlety',\n",
       " 'Warped Fetish',\n",
       " 'Agatha',\n",
       " 'The Oculus, Token of Lost Worlds',\n",
       " 'Worldbreaker',\n",
       " 'The Decapitator',\n",
       " 'Avenger',\n",
       " 'Spada, Etcher of Hatred',\n",
       " 'Oathbreaker, Last Hope of the Breaking Storm',\n",
       " 'Blood Infused Guardian',\n",
       " 'Final Critic',\n",
       " 'Primitive Blade',\n",
       " \"Twilight's Carver\",\n",
       " 'Shadowsteel',\n",
       " 'Rage, Legacy of the Lone Victor',\n",
       " 'Heartstriker, Legacy of the Light',\n",
       " 'Lightning, Etcher of the King',\n",
       " 'Toothpick',\n",
       " 'The Void, Vengeance of Dark Magic',\n",
       " 'Unholy Wand',\n",
       " 'Severance']"
      ]
     },
     "execution_count": 179,
     "metadata": {},
     "output_type": "execute_result"
    }
   ],
   "source": [
    "list(set(pymoli2_rename.ItemName))"
   ]
  },
  {
   "cell_type": "code",
   "execution_count": 180,
   "metadata": {},
   "outputs": [
    {
     "data": {
      "text/plain": [
       "780"
      ]
     },
     "execution_count": 180,
     "metadata": {},
     "output_type": "execute_result"
    }
   ],
   "source": [
    "unique_count = len(pymoli1_rename.ItemName)\n",
    "unique_count"
   ]
  },
  {
   "cell_type": "code",
   "execution_count": 181,
   "metadata": {},
   "outputs": [
    {
     "data": {
      "text/plain": [
       "4572.6599999999926"
      ]
     },
     "execution_count": 181,
     "metadata": {},
     "output_type": "execute_result"
    }
   ],
   "source": [
    "pricesums = sum(pymoli1_rename.Price) + sum(pymoli2_rename.Price)\n",
    "pricesums"
   ]
  },
  {
   "cell_type": "code",
   "execution_count": 195,
   "metadata": {},
   "outputs": [
    {
     "data": {
      "text/plain": [
       "5.862384615384606"
      ]
     },
     "execution_count": 195,
     "metadata": {},
     "output_type": "execute_result"
    }
   ],
   "source": [
    "averagepp = pymoli1_rename.Price.mean() + pymoli2_rename.Price.mean()\n",
    "averagepp"
   ]
  },
  {
   "cell_type": "code",
   "execution_count": 196,
   "metadata": {},
   "outputs": [
    {
     "data": {
      "text/plain": [
       "1560"
      ]
     },
     "execution_count": 196,
     "metadata": {},
     "output_type": "execute_result"
    }
   ],
   "source": [
    "total_purchase = len(pymoli1_rename.Price) + len(pymoli2_rename.Price)\n",
    "total_purchase"
   ]
  },
  {
   "cell_type": "code",
   "execution_count": 197,
   "metadata": {},
   "outputs": [
    {
     "data": {
      "text/plain": [
       "4572.6599999999926"
      ]
     },
     "execution_count": 197,
     "metadata": {},
     "output_type": "execute_result"
    }
   ],
   "source": [
    "total_revenue = pricesums\n",
    "total_revenue"
   ]
  },
  {
   "cell_type": "code",
   "execution_count": 206,
   "metadata": {},
   "outputs": [
    {
     "data": {
      "text/html": [
       "<div>\n",
       "<style>\n",
       "    .dataframe thead tr:only-child th {\n",
       "        text-align: right;\n",
       "    }\n",
       "\n",
       "    .dataframe thead th {\n",
       "        text-align: left;\n",
       "    }\n",
       "\n",
       "    .dataframe tbody tr th {\n",
       "        vertical-align: top;\n",
       "    }\n",
       "</style>\n",
       "<table border=\"1\" class=\"dataframe\">\n",
       "  <thead>\n",
       "    <tr style=\"text-align: right;\">\n",
       "      <th></th>\n",
       "      <th>Average Price</th>\n",
       "      <th>Number of Purchases</th>\n",
       "      <th>Number of Unique Items</th>\n",
       "      <th>Total Revenue</th>\n",
       "    </tr>\n",
       "  </thead>\n",
       "  <tbody>\n",
       "    <tr>\n",
       "      <th>0</th>\n",
       "      <td>5.862385</td>\n",
       "      <td>1560</td>\n",
       "      <td>780</td>\n",
       "      <td>4572.66</td>\n",
       "    </tr>\n",
       "  </tbody>\n",
       "</table>\n",
       "</div>"
      ],
      "text/plain": [
       "   Average Price  Number of Purchases  Number of Unique Items  Total Revenue\n",
       "0       5.862385                 1560                     780        4572.66"
      ]
     },
     "execution_count": 206,
     "metadata": {},
     "output_type": "execute_result"
    }
   ],
   "source": [
    "purchasing_analysis = pd.DataFrame({\"Number of Unique Items\": [unique_count],\n",
    "                                   \"Average Price\": [averagepp],\n",
    "                                   \"Number of Purchases\": [total_purchase],\n",
    "                                   \"Total Revenue\": [total_revenue]})\n",
    "purchasing_analysis"
   ]
  },
  {
   "cell_type": "code",
   "execution_count": 208,
   "metadata": {},
   "outputs": [
    {
     "ename": "NameError",
     "evalue": "name 'Gender' is not defined",
     "output_type": "error",
     "traceback": [
      "\u001b[0;31m---------------------------------------------------------------------------\u001b[0m",
      "\u001b[0;31mNameError\u001b[0m                                 Traceback (most recent call last)",
      "\u001b[0;32m<ipython-input-208-c310332da6e3>\u001b[0m in \u001b[0;36m<module>\u001b[0;34m()\u001b[0m\n\u001b[0;32m----> 1\u001b[0;31m \u001b[0mmalecount\u001b[0m \u001b[0;34m=\u001b[0m \u001b[0mlen\u001b[0m\u001b[0;34m(\u001b[0m\u001b[0mGender\u001b[0m\u001b[0;34m[\u001b[0m\u001b[0;34m\"Male\"\u001b[0m\u001b[0;34m]\u001b[0m\u001b[0;34m)\u001b[0m\u001b[0;34m\u001b[0m\u001b[0m\n\u001b[0m",
      "\u001b[0;31mNameError\u001b[0m: name 'Gender' is not defined"
     ]
    }
   ],
   "source": [
    "malecount = len(Gender[\"Male\"])"
   ]
  },
  {
   "cell_type": "code",
   "execution_count": 215,
   "metadata": {},
   "outputs": [
    {
     "data": {
      "text/plain": [
       "Male                     633\n",
       "Female                   136\n",
       "Other / Non-Disclosed     11\n",
       "Name: Gender, dtype: int64"
      ]
     },
     "execution_count": 215,
     "metadata": {},
     "output_type": "execute_result"
    }
   ],
   "source": [
    "pymoli1_rename['Gender'].value_counts()"
   ]
  },
  {
   "cell_type": "code",
   "execution_count": 216,
   "metadata": {},
   "outputs": [
    {
     "data": {
      "text/plain": [
       "Male                     633\n",
       "Female                   136\n",
       "Other / Non-Disclosed     11\n",
       "Name: Gender, dtype: int64"
      ]
     },
     "execution_count": 216,
     "metadata": {},
     "output_type": "execute_result"
    }
   ],
   "source": [
    "pymoli2_rename['Gender'].value_counts()"
   ]
  },
  {
   "cell_type": "code",
   "execution_count": 226,
   "metadata": {},
   "outputs": [
    {
     "data": {
      "text/plain": [
       "0.8115384615384615"
      ]
     },
     "execution_count": 226,
     "metadata": {},
     "output_type": "execute_result"
    }
   ],
   "source": [
    "percentmale = 633/780\n",
    "percentmale"
   ]
  },
  {
   "cell_type": "code",
   "execution_count": 228,
   "metadata": {},
   "outputs": [
    {
     "data": {
      "text/plain": [
       "0.15632183908045977"
      ]
     },
     "execution_count": 228,
     "metadata": {},
     "output_type": "execute_result"
    }
   ],
   "source": [
    "percentfemale = 136/870\n",
    "percentfemale"
   ]
  },
  {
   "cell_type": "code",
   "execution_count": 230,
   "metadata": {},
   "outputs": [
    {
     "data": {
      "text/plain": [
       "0.014102564102564103"
      ]
     },
     "execution_count": 230,
     "metadata": {},
     "output_type": "execute_result"
    }
   ],
   "source": [
    "percentother = 11/780\n",
    "percentother"
   ]
  },
  {
   "cell_type": "code",
   "execution_count": 232,
   "metadata": {},
   "outputs": [
    {
     "ename": "SyntaxError",
     "evalue": "invalid syntax (<ipython-input-232-d8eb8b944dfe>, line 1)",
     "output_type": "error",
     "traceback": [
      "\u001b[0;36m  File \u001b[0;32m\"<ipython-input-232-d8eb8b944dfe>\"\u001b[0;36m, line \u001b[0;32m1\u001b[0m\n\u001b[0;31m    gender_analysis = pd.DataFrame({\"Percentage of players\": [percentmale], [percentfemale], [percentother],\u001b[0m\n\u001b[0m                                                                                           ^\u001b[0m\n\u001b[0;31mSyntaxError\u001b[0m\u001b[0;31m:\u001b[0m invalid syntax\n"
     ]
    }
   ],
   "source": [
    "gender_analysis = pd.DataFrame({\"Percentage of players\": [percentmale], [percentfemale], [percentother],\n",
    "                                   \"Total Count\": [pymoli2_rename['Gender'].value_counts})\n",
    "gender_analysis"
   ]
  },
  {
   "cell_type": "code",
   "execution_count": null,
   "metadata": {
    "collapsed": true
   },
   "outputs": [],
   "source": []
  }
 ],
 "metadata": {
  "kernelspec": {
   "display_name": "Python 3",
   "language": "python",
   "name": "python3"
  },
  "language_info": {
   "codemirror_mode": {
    "name": "ipython",
    "version": 3
   },
   "file_extension": ".py",
   "mimetype": "text/x-python",
   "name": "python",
   "nbconvert_exporter": "python",
   "pygments_lexer": "ipython3",
   "version": "3.6.1"
  }
 },
 "nbformat": 4,
 "nbformat_minor": 2
}
